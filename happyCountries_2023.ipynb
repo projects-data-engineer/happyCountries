{
 "cells": [
  {
   "cell_type": "markdown",
   "id": "2bbddabf-db26-4ee4-9fa4-f969d3f94673",
   "metadata": {},
   "source": [
    "# BIG DATA PROCESSIN PROJECT"
   ]
  },
  {
   "cell_type": "code",
   "execution_count": 46,
   "id": "6fe9a0a4-9657-470a-86aa-f185c6b2367e",
   "metadata": {},
   "outputs": [],
   "source": [
    "from pyspark.sql import SparkSession\n",
    "from pyspark.sql.functions import desc, col, isnan, when, count, mean ,stddev, expr\n",
    "\n",
    "from pyspark.sql.types import StructType, StructField, StringType, DoubleType"
   ]
  },
  {
   "cell_type": "markdown",
   "id": "9e54185d-e4b8-439d-9d98-f61dfdc5f2a1",
   "metadata": {},
   "source": [
    "###  Create a SparkSession"
   ]
  },
  {
   "cell_type": "code",
   "execution_count": 10,
   "id": "ccab40e5-29c7-4cad-8664-857b85eb4491",
   "metadata": {},
   "outputs": [],
   "source": [
    "\n",
    "spark = SparkSession.builder.appName(\"Happy Countries 2023\").getOrCreate()"
   ]
  },
  {
   "cell_type": "code",
   "execution_count": 11,
   "id": "a850eadf-b50e-44b9-b469-f28ae49cb1d6",
   "metadata": {},
   "outputs": [
    {
     "data": {
      "text/html": [
       "\n",
       "            <div>\n",
       "                <p><b>SparkSession - in-memory</b></p>\n",
       "                \n",
       "        <div>\n",
       "            <p><b>SparkContext</b></p>\n",
       "\n",
       "            <p><a href=\"http://macbook-air.station:4041\">Spark UI</a></p>\n",
       "\n",
       "            <dl>\n",
       "              <dt>Version</dt>\n",
       "                <dd><code>v3.5.3</code></dd>\n",
       "              <dt>Master</dt>\n",
       "                <dd><code>local[*]</code></dd>\n",
       "              <dt>AppName</dt>\n",
       "                <dd><code>Happy Countries 2023</code></dd>\n",
       "            </dl>\n",
       "        </div>\n",
       "        \n",
       "            </div>\n",
       "        "
      ],
      "text/plain": [
       "<pyspark.sql.session.SparkSession at 0x10651c2c0>"
      ]
     },
     "execution_count": 11,
     "metadata": {},
     "output_type": "execute_result"
    }
   ],
   "source": [
    "spark"
   ]
  },
  {
   "cell_type": "markdown",
   "id": "a4fd8b41-9b53-42bf-82e2-5338d3b8adfe",
   "metadata": {},
   "source": [
    "## Data loading and cleaning"
   ]
  },
  {
   "cell_type": "markdown",
   "id": "36a210ee-e245-44be-8d1f-bc9162f29e56",
   "metadata": {},
   "source": [
    "### Read CSV File into DataFrame"
   ]
  },
  {
   "cell_type": "code",
   "execution_count": 13,
   "id": "5ad483cd-cb20-4983-87ab-604e0db725bf",
   "metadata": {},
   "outputs": [],
   "source": [
    "# Read CSV file into DataFrame with header\n",
    "csv_file_path = \"./data/WHR_2023.csv\"\n",
    "df = spark.read.csv(csv_file_path,header=True)"
   ]
  },
  {
   "cell_type": "code",
   "execution_count": 14,
   "id": "a6ff550c-c88c-45b7-8fdf-a811b7f412a5",
   "metadata": {},
   "outputs": [
    {
     "name": "stdout",
     "output_type": "stream",
     "text": [
      "root\n",
      " |-- country: string (nullable = true)\n",
      " |-- region: string (nullable = true)\n",
      " |-- happiness_score: string (nullable = true)\n",
      " |-- gdp_per_capita: string (nullable = true)\n",
      " |-- social_support: string (nullable = true)\n",
      " |-- healthy_life_expectancy: string (nullable = true)\n",
      " |-- freedom_to_make_life_choices: string (nullable = true)\n",
      " |-- generosity: string (nullable = true)\n",
      " |-- perceptions_of_corruption: string (nullable = true)\n",
      "\n"
     ]
    }
   ],
   "source": [
    "# Display schema of DataFrame\n",
    "df.printSchema()"
   ]
  },
  {
   "cell_type": "markdown",
   "id": "4166a666-06b3-45cb-a122-750988007d24",
   "metadata": {},
   "source": [
    "### Read CSV File into DataFrame with my_schema"
   ]
  },
  {
   "cell_type": "code",
   "execution_count": 15,
   "id": "d40a5429-36d6-4ef2-be49-1fa0b63d6deb",
   "metadata": {},
   "outputs": [],
   "source": [
    "df_schema = StructType([\n",
    "    StructField(\"Country\", StringType(), True),\n",
    "    StructField(\"Region\", StringType(),True),\n",
    "    StructField(\"Happiness_Score\",DoubleType(), True),\n",
    "    StructField(\"GDP_per_Capita\",DoubleType(), True),\n",
    "    StructField(\"Social_Support\", DoubleType(), True),\n",
    "    StructField(\"Healthy_Life_Expectancy\", DoubleType(), True),\n",
    "    StructField(\"Freedom_to_Make_Life_Choices\", DoubleType(), True),\n",
    "    StructField(\"Generosity\", DoubleType(), True),\n",
    "    StructField(\"Perceptions_of_Corruption\", DoubleType(), True)\n",
    "\n",
    "])"
   ]
  },
  {
   "cell_type": "code",
   "execution_count": 16,
   "id": "23df8cfb-d8d7-4aea-ab60-ed351aae8ae4",
   "metadata": {},
   "outputs": [],
   "source": [
    "df = spark.read.csv(csv_file_path,header=True,schema=df_schema)"
   ]
  },
  {
   "cell_type": "code",
   "execution_count": 17,
   "id": "59467dc0-0623-429f-a8fc-2b8ee74b8661",
   "metadata": {},
   "outputs": [
    {
     "name": "stdout",
     "output_type": "stream",
     "text": [
      "root\n",
      " |-- Country: string (nullable = true)\n",
      " |-- Region: string (nullable = true)\n",
      " |-- Happiness_Score: double (nullable = true)\n",
      " |-- GDP_per_Capita: double (nullable = true)\n",
      " |-- Social_Support: double (nullable = true)\n",
      " |-- Healthy_Life_Expectancy: double (nullable = true)\n",
      " |-- Freedom_to_Make_Life_Choices: double (nullable = true)\n",
      " |-- Generosity: double (nullable = true)\n",
      " |-- Perceptions_of_Corruption: double (nullable = true)\n",
      "\n"
     ]
    }
   ],
   "source": [
    "# Display schema of DataFrame\n",
    "df.printSchema()"
   ]
  },
  {
   "cell_type": "code",
   "execution_count": 18,
   "id": "a546e579-780a-424e-b7ff-be46894d1e32",
   "metadata": {},
   "outputs": [
    {
     "name": "stdout",
     "output_type": "stream",
     "text": [
      "+-----------+--------------------+---------------+--------------+--------------+-----------------------+----------------------------+----------+-------------------------+\n",
      "|    Country|              Region|Happiness_Score|GDP_per_Capita|Social_Support|Healthy_Life_Expectancy|Freedom_to_Make_Life_Choices|Generosity|Perceptions_of_Corruption|\n",
      "+-----------+--------------------+---------------+--------------+--------------+-----------------------+----------------------------+----------+-------------------------+\n",
      "|    Finland|      Western Europe|          7.804|         1.888|         1.585|                  0.535|                       0.772|     0.126|                    0.535|\n",
      "|    Denmark|      Western Europe|          7.586|         1.949|         1.548|                  0.537|                       0.734|     0.208|                    0.525|\n",
      "|    Iceland|      Western Europe|           7.53|         1.926|          1.62|                  0.559|                       0.738|      0.25|                    0.187|\n",
      "|     Israel|Middle East and N...|          7.473|         1.833|         1.521|                  0.577|                       0.569|     0.124|                    0.158|\n",
      "|Netherlands|      Western Europe|          7.403|         1.942|         1.488|                  0.545|                       0.672|     0.251|                    0.394|\n",
      "+-----------+--------------------+---------------+--------------+--------------+-----------------------+----------------------------+----------+-------------------------+\n",
      "only showing top 5 rows\n",
      "\n"
     ]
    }
   ],
   "source": [
    "# Dsplay content of DataFrame\n",
    "df.show(5)"
   ]
  },
  {
   "cell_type": "markdown",
   "id": "9da4e07a-0bf2-48d7-be4c-01df4c2ab566",
   "metadata": {},
   "source": [
    "### Calculating basic statistics"
   ]
  },
  {
   "cell_type": "code",
   "execution_count": 19,
   "id": "84169b21-4faa-4875-bef8-c59627d5167a",
   "metadata": {},
   "outputs": [
    {
     "name": "stderr",
     "output_type": "stream",
     "text": [
      "24/11/09 11:09:11 WARN SparkStringUtils: Truncated the string representation of a plan since it was too large. This behavior can be adjusted by setting 'spark.sql.debug.maxToStringFields'.\n"
     ]
    },
    {
     "name": "stdout",
     "output_type": "stream",
     "text": [
      "+-------+-----------+--------------------+------------------+------------------+------------------+-----------------------+----------------------------+-------------------+-------------------------+\n",
      "|summary|    Country|              Region|   Happiness_Score|    GDP_per_Capita|    Social_Support|Healthy_Life_Expectancy|Freedom_to_Make_Life_Choices|         Generosity|Perceptions_of_Corruption|\n",
      "+-------+-----------+--------------------+------------------+------------------+------------------+-----------------------+----------------------------+-------------------+-------------------------+\n",
      "|  count|        137|                 137|               137|               137|               137|                    136|                         137|                137|                      137|\n",
      "|   mean|       NULL|                NULL| 5.539795620437957|1.4069854014598542|1.1562116788321168|     0.3661764705882354|          0.5399999999999998|0.14847445255474462|      0.14589781021897807|\n",
      "| stddev|       NULL|                NULL|1.1399287460877296|0.4329626730515041|0.3263224999601605|    0.15669110364275404|          0.1495013279500337|0.07605349126572332|      0.12672296582979353|\n",
      "|    min|Afghanistan|Central and Easte...|             1.859|               0.0|               0.0|                    0.0|                         0.0|                0.0|                      0.0|\n",
      "|    max|   Zimbabwe|      Western Europe|             7.804|               2.2|              1.62|                  0.702|                       0.772|              0.422|                    0.561|\n",
      "+-------+-----------+--------------------+------------------+------------------+------------------+-----------------------+----------------------------+-------------------+-------------------------+\n",
      "\n"
     ]
    }
   ],
   "source": [
    "df.describe().show()"
   ]
  },
  {
   "cell_type": "markdown",
   "id": "3bac24f1-5b0a-4c7b-8f60-333efb22cf20",
   "metadata": {},
   "source": [
    "### Null value analysis"
   ]
  },
  {
   "cell_type": "code",
   "execution_count": 20,
   "id": "1f5aa31a-0548-449b-b079-de9f0cc9398f",
   "metadata": {},
   "outputs": [
    {
     "name": "stdout",
     "output_type": "stream",
     "text": [
      "+-------+------+---------------+--------------+--------------+-----------------------+----------------------------+----------+-------------------------+\n",
      "|Country|Region|Happiness_Score|GDP_per_Capita|Social_Support|Healthy_Life_Expectancy|Freedom_to_Make_Life_Choices|Generosity|Perceptions_of_Corruption|\n",
      "+-------+------+---------------+--------------+--------------+-----------------------+----------------------------+----------+-------------------------+\n",
      "|      0|     0|              0|             0|             0|                      1|                           0|         0|                        0|\n",
      "+-------+------+---------------+--------------+--------------+-----------------------+----------------------------+----------+-------------------------+\n",
      "\n"
     ]
    }
   ],
   "source": [
    "null_counts = df.select([count(when(col(c).isNull() | isnan(c), c)).alias(c) for c in df.columns])\n",
    "null_counts.show()"
   ]
  },
  {
   "cell_type": "code",
   "execution_count": 21,
   "id": "bd8a4b9b-6828-442d-9ad1-424b9d91a7cf",
   "metadata": {},
   "outputs": [],
   "source": [
    "df_cleaned= df.dropna(subset=[\"Healthy_Life_Expectancy\"])"
   ]
  },
  {
   "cell_type": "code",
   "execution_count": 22,
   "id": "f408286b-cbc8-48c8-bac2-43932c9618b5",
   "metadata": {},
   "outputs": [
    {
     "data": {
      "text/plain": [
       "136"
      ]
     },
     "execution_count": 22,
     "metadata": {},
     "output_type": "execute_result"
    }
   ],
   "source": [
    "df_cleaned.count()"
   ]
  },
  {
   "cell_type": "markdown",
   "id": "86d1ae5c-3d20-4419-b6e8-1fc07e5e0e63",
   "metadata": {},
   "source": [
    "## Exploratory Data Analysis (EDA)"
   ]
  },
  {
   "cell_type": "markdown",
   "id": "bee7fcb6-fb81-40b0-a84b-85d06c4a22be",
   "metadata": {},
   "source": [
    "### Distribution of Happiness"
   ]
  },
  {
   "cell_type": "code",
   "execution_count": 23,
   "id": "338ab066-13e9-4e27-879b-18ccb8337d9a",
   "metadata": {},
   "outputs": [
    {
     "name": "stdout",
     "output_type": "stream",
     "text": [
      "+-----------------+------------------+-----+------+-----+\n",
      "|             mean|            stddev|   Q1|median|   Q3|\n",
      "+-----------------+------------------+-----+------+-----+\n",
      "|5.544441176470589|1.1428405336717136|4.638| 5.684|6.334|\n",
      "+-----------------+------------------+-----+------+-----+\n",
      "\n"
     ]
    }
   ],
   "source": [
    "happiness_stats = df_cleaned.select(\n",
    "    mean(col(\"Happiness_Score\")).alias(\"mean\"),\n",
    "    stddev(col(\"Happiness_Score\")).alias(\"stddev\"),\n",
    "    expr(\"percentile_approx(Happiness_Score, 0.25)\").alias(\"Q1\"),\n",
    "    expr(\"percentile_approx(Happiness_Score, 0.5)\").alias(\"median\"),\n",
    "    expr(\"percentile_approx(Happiness_Score, 0.75)\").alias(\"Q3\")\n",
    ")\n",
    "\n",
    "happiness_stats.show()"
   ]
  },
  {
   "cell_type": "markdown",
   "id": "0459f2ba-c3d6-4078-aa5e-300ecdbcd5a2",
   "metadata": {},
   "source": [
    "## Correlation of factors with happiness"
   ]
  },
  {
   "cell_type": "markdown",
   "id": "e118ba28-f6e3-42ea-b223-7c4e9b785b42",
   "metadata": {},
   "source": [
    "To find the correlation between each factor and the Happiness_Score, we will use the correlation function in PySpark for each factor. Here we assume that there are several columns of factors, for example: GDP_Per_Capita, Social_Support, Life_Expectancy, etc."
   ]
  },
  {
   "cell_type": "code",
   "execution_count": 24,
   "id": "7564e476-8ef4-4175-95bf-bfc90674a23c",
   "metadata": {},
   "outputs": [],
   "source": [
    "from pyspark.sql.functions import corr\n",
    "from pyspark.sql import Row"
   ]
  },
  {
   "cell_type": "code",
   "execution_count": 25,
   "id": "0860728c-76c5-48f0-87da-97f8d49dbefc",
   "metadata": {},
   "outputs": [],
   "source": [
    "# List of factors we want to correlate with happines_score\n",
    "factor_columns = [\"GDP_per_Capita\",\"Social_Support\",\"Healthy_Life_Expectancy\",\"Freedom_to_Make_Life_Choices\",\"Generosity\",\"Perceptions_of_Corruption\"]"
   ]
  },
  {
   "cell_type": "code",
   "execution_count": 26,
   "id": "9bf8704a-eace-49f7-9ed8-a77aa400fae5",
   "metadata": {},
   "outputs": [],
   "source": [
    "correlation_data = []"
   ]
  },
  {
   "cell_type": "code",
   "execution_count": 27,
   "id": "fa7525cd-1a3f-47e7-b8ac-2ab9f3911f92",
   "metadata": {},
   "outputs": [
    {
     "name": "stdout",
     "output_type": "stream",
     "text": [
      "Correlation between Happiness_Score and GDP_per_Capita: 0.7838113277907759\n",
      "Correlation between Happiness_Score and Social_Support: 0.8381606979596413\n",
      "Correlation between Happiness_Score and Healthy_Life_Expectancy: 0.7466992875668792\n",
      "Correlation between Happiness_Score and Freedom_to_Make_Life_Choices: 0.6619437392392364\n",
      "Correlation between Happiness_Score and Generosity: 0.0393946164734588\n",
      "Correlation between Happiness_Score and Perceptions_of_Corruption: 0.4705684381401544\n"
     ]
    }
   ],
   "source": [
    "# Calculate the correlation of each factor\n",
    "for factor in factor_columns:\n",
    "    correlation = df_cleaned.select(corr(\"Happiness_Score\",factor).alias(\"correlation\")).collect()[0][\"correlation\"]\n",
    "    print(f\"Correlation between Happiness_Score and {factor}: {correlation}\")\n",
    "    correlation_data.append(Row(Factor=factor,Correlation=correlation))"
   ]
  },
  {
   "cell_type": "code",
   "execution_count": 28,
   "id": "9c46942d-6931-46e3-b7a9-743c931acbf5",
   "metadata": {},
   "outputs": [
    {
     "name": "stdout",
     "output_type": "stream",
     "text": [
      "+--------------------+------------------+\n",
      "|              Factor|       Correlation|\n",
      "+--------------------+------------------+\n",
      "|      Social_Support|0.8381606979596413|\n",
      "|      GDP_per_Capita|0.7838113277907759|\n",
      "|Healthy_Life_Expe...|0.7466992875668792|\n",
      "|Freedom_to_Make_L...|0.6619437392392364|\n",
      "|Perceptions_of_Co...|0.4705684381401544|\n",
      "|          Generosity|0.0393946164734588|\n",
      "+--------------------+------------------+\n",
      "\n"
     ]
    }
   ],
   "source": [
    "correlation_df = spark.createDataFrame(correlation_data)\n",
    "correlation_df = correlation_df.orderBy(\"Correlation\", ascending=False)\n",
    "correlation_df.show()"
   ]
  },
  {
   "cell_type": "code",
   "execution_count": 29,
   "id": "dc4a34db-e7ae-4aa1-8059-fc8d891fdf76",
   "metadata": {},
   "outputs": [
    {
     "name": "stdout",
     "output_type": "stream",
     "text": [
      "+--------------+------------------+\n",
      "|        Factor|       Correlation|\n",
      "+--------------+------------------+\n",
      "|Social_Support|0.8381606979596413|\n",
      "+--------------+------------------+\n",
      "only showing top 1 row\n",
      "\n"
     ]
    }
   ],
   "source": [
    "correlation_df.show(1)"
   ]
  },
  {
   "cell_type": "markdown",
   "id": "de5d91f5-df10-437c-a161-6eb19ef05279",
   "metadata": {},
   "source": [
    "### Which is the “happiest” country in 2023 according to the data?"
   ]
  },
  {
   "cell_type": "code",
   "execution_count": 52,
   "id": "64c5458d-586e-453d-9c0d-794323645ce4",
   "metadata": {},
   "outputs": [],
   "source": [
    "max_happy = df_cleaned.groupBy('Country') \\\n",
    "        .agg(max(col(\"Happiness_Score\")).alias(\"Max_Happiness_Score\")) \\\n",
    "        .orderBy(col(\"Max_Happiness_Score\").desc())\\\n",
    "        .limit(1)"
   ]
  },
  {
   "cell_type": "code",
   "execution_count": 53,
   "id": "027566f5-7d72-43df-8bb3-309beb935d28",
   "metadata": {},
   "outputs": [
    {
     "name": "stdout",
     "output_type": "stream",
     "text": [
      "+-------+-------------------+\n",
      "|Country|Max_Happiness_Score|\n",
      "+-------+-------------------+\n",
      "|Finland|              7.804|\n",
      "+-------+-------------------+\n",
      "\n"
     ]
    }
   ],
   "source": [
    "max_happy.show()"
   ]
  },
  {
   "cell_type": "code",
   "execution_count": null,
   "id": "049a2add-ada9-4fa5-b10e-aa856abffd9b",
   "metadata": {},
   "outputs": [],
   "source": []
  },
  {
   "cell_type": "markdown",
   "id": "333412b1-a686-4212-844b-e0721265edae",
   "metadata": {},
   "source": [
    "## Visualization"
   ]
  },
  {
   "cell_type": "code",
   "execution_count": null,
   "id": "398c2528-b22a-452f-a6af-341b9b2f1c69",
   "metadata": {},
   "outputs": [],
   "source": []
  },
  {
   "cell_type": "markdown",
   "id": "84d71345-7772-43b4-acf8-8d4d81317fb1",
   "metadata": {},
   "source": [
    "## Predictive Model "
   ]
  },
  {
   "cell_type": "code",
   "execution_count": 54,
   "id": "498161f7-891a-4a63-8bb2-11c6a6e5663d",
   "metadata": {},
   "outputs": [],
   "source": [
    "spark.stop()\n"
   ]
  }
 ],
 "metadata": {
  "kernelspec": {
   "display_name": "Python 3 (ipykernel)",
   "language": "python",
   "name": "python3"
  },
  "language_info": {
   "codemirror_mode": {
    "name": "ipython",
    "version": 3
   },
   "file_extension": ".py",
   "mimetype": "text/x-python",
   "name": "python",
   "nbconvert_exporter": "python",
   "pygments_lexer": "ipython3",
   "version": "3.12.4"
  }
 },
 "nbformat": 4,
 "nbformat_minor": 5
}
